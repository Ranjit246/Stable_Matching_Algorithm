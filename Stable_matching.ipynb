{
  "nbformat": 4,
  "nbformat_minor": 0,
  "metadata": {
    "colab": {
      "provenance": [],
      "authorship_tag": "ABX9TyMGEJfpP1j02ooGzT+isi5C",
      "include_colab_link": true
    },
    "kernelspec": {
      "name": "python3",
      "display_name": "Python 3"
    },
    "language_info": {
      "name": "python"
    }
  },
  "cells": [
    {
      "cell_type": "markdown",
      "metadata": {
        "id": "view-in-github",
        "colab_type": "text"
      },
      "source": [
        "<a href=\"https://colab.research.google.com/github/Ranjit246/Stable_Matching_Algorithm/blob/main/Stable_matching.ipynb\" target=\"_parent\"><img src=\"https://colab.research.google.com/assets/colab-badge.svg\" alt=\"Open In Colab\"/></a>"
      ]
    },
    {
      "cell_type": "code",
      "execution_count": 9,
      "metadata": {
        "colab": {
          "base_uri": "https://localhost:8080/"
        },
        "id": "Mpd9KGyhmwkD",
        "outputId": "a9fc0618-9de3-4b7b-ab86-dd97309e2730"
      },
      "outputs": [
        {
          "output_type": "stream",
          "name": "stdout",
          "text": [
            "DEALING WITH ryan\n",
            "ryan is no longer a free man and is now tentatively engaged to lizzy\n",
            "DEALING WITH blake\n",
            "blake is no longer a free man and is now tentatively engaged to sarah\n",
            "DEALING WITH josh\n",
            "sarah is taken already..\n",
            "She is satisfied with blake..\n",
            "lizzy is taken already..\n",
            "She is satisfied with ryan..\n",
            "josh is no longer a free man and is now tentatively engaged to daniella\n",
            "DEALING WITH connor\n",
            "lizzy is taken already..\n",
            "She is satisfied with ryan..\n",
            "sarah is taken already..\n",
            "She is satisfied with blake..\n",
            "connor is no longer a free man and is now tentatively engaged to zoey\n",
            "Complete list of Dance engangement: \n",
            "\n",
            "[['ryan', 'lizzy'], ['blake', 'sarah'], ['josh', 'daniella'], ['connor', 'zoey']]\n"
          ]
        }
      ],
      "source": [
        "#The women that the men prefer\n",
        "preferred_rankings_men = {\n",
        "\t'ryan': \t['lizzy', 'sarah', 'zoey', 'daniella'],\n",
        "\t'josh': \t['sarah', 'lizzy', 'daniella', 'zoey'],\n",
        "\t'blake': \t['sarah', 'daniella', 'zoey', 'lizzy'],\n",
        "\t'connor': \t['lizzy', 'sarah', 'zoey', 'daniella']\n",
        "}\n",
        "\n",
        "#The men that the women prefer\n",
        "preferred_rankings_women = {\n",
        "\t'lizzy': \t['ryan', 'blake', 'josh', 'connor'],\n",
        "\t'sarah': \t['ryan', 'blake', 'connor', 'josh'],\n",
        "\t'zoey':  \t['connor', 'josh', 'ryan', 'blake'],\n",
        "\t'daniella':\t['ryan', 'josh', 'connor', 'blake'] \n",
        "}\n",
        "\n",
        "#Keep track of the people that \"may\" end up together\n",
        "tentative_engagements = []\n",
        "\n",
        "#Men who still need to propose and get accepted successfully\n",
        "free_men = []\n",
        "\n",
        "def init_free_men():\n",
        "\t'''Initialize the arrays of women and men to represent \n",
        "\t\tthat they're all initially free and not engaged'''\n",
        "\tfor man in preferred_rankings_men:\n",
        "\t\tfree_men.append(man)\n",
        "  \n",
        "def stable_matching():\n",
        "\t'''Matching algorithm until stable match terminates'''\n",
        "\twhile (len(free_men) > 0):\n",
        "\t\tfor man in free_men:\n",
        "\t\t\tbegin_matching(man)\n",
        "\n",
        "def begin_matching(man):\n",
        "\t'''Find the first free woman available to a man at\n",
        "\t\tany given time'''\n",
        "\n",
        "\tprint(\"DEALING WITH %s\"%(man))\n",
        "\tfor woman in preferred_rankings_men[man]:\n",
        "\n",
        "\t\t#Boolean for whether woman is taken or not\n",
        "\t\ttaken_match = [couple for couple in tentative_engagements if woman in couple]\n",
        "\n",
        "\t\tif (len(taken_match) == 0):\n",
        "\t\t\t#tentatively engage the man and woman\n",
        "\t\t\ttentative_engagements.append([man, woman])\n",
        "\t\t\tfree_men.remove(man)\n",
        "\t\t\tprint('%s is no longer a free man and is now tentatively engaged to %s'%(man, woman))\n",
        "\t\t\tbreak\n",
        "\n",
        "\t\telif (len(taken_match) > 0):\n",
        "\t\t\tprint('%s is taken already..'%(woman))\n",
        "\n",
        "\t\t\t#Check ranking of the current dude and the ranking of the 'to-be' dude\n",
        "\t\t\tcurrent_guy = preferred_rankings_women[woman].index(taken_match[0][0])\n",
        "\t\t\tpotential_guy = preferred_rankings_women[woman].index(man)\n",
        "\n",
        "\t\t\tif (current_guy < potential_guy):\n",
        "\t\t\t\tprint('She is satisfied with %s..'%(taken_match[0][0]))\n",
        "\t\t\telse: \n",
        "\t\t\t\tprint('%s is better than %s'%(man, taken_match[0][0]))\n",
        "\t\t\t\tprint('Making %s free again.. and tentatively engaging %s and %s'%(taken_match[0][0], man, woman))\n",
        "\t\t\t\t\n",
        "\t\t\t\t#The new guy is engaged\n",
        "\t\t\t\tfree_men.remove(man)\n",
        "\n",
        "\t\t\t\t#The old guy is now single\n",
        "\t\t\t\tfree_men.append(taken_match[0][0])\n",
        "\n",
        "\t\t\t\t#Update the fiance of the woman (tentatively)\n",
        "\t\t\t\ttaken_match[0][0] = man\n",
        "\t\t\t\tbreak\n",
        "\n",
        "\n",
        "\n",
        "\n",
        "def main():\n",
        "\tinit_free_men()\n",
        "\tstable_matching()\n",
        "\tprint(\"Complete list of Dance engangement: \\n\")\n",
        "\tprint(tentative_engagements)\n",
        " \n",
        "if __name__ == \"__main__\":\n",
        "  main()"
      ]
    }
  ]
}